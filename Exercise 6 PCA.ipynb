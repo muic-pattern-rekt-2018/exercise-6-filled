{
 "cells": [
  {
   "cell_type": "code",
   "execution_count": 5,
   "metadata": {},
   "outputs": [],
   "source": [
    "%matplotlib inline\n",
    "from scipy.io import loadmat\n",
    "import numpy as np\n",
    "from matplotlib import pyplot as plt\n",
    "import matplotlib.cm as cm"
   ]
  },
  {
   "cell_type": "code",
   "execution_count": 6,
   "metadata": {},
   "outputs": [
    {
     "data": {
      "image/png": "[encoded data removed]",
      "text/plain": [
       "<Figure size 432x288 with 1 Axes>"
      ]
     },
     "metadata": {
      "needs_background": "light"
     },
     "output_type": "display_data"
    }
   ],
   "source": [
    "np.random.seed(12345)\n",
    "nd = 100\n",
    "x1p = np.random.randn(nd)+1\n",
    "x1n = np.random.randn(nd)+2\n",
    "\n",
    "x2p = x1p *2 + 1 + np.random.randn(nd)\n",
    "x2n = x1n *2 + 1 + np.random.randn(nd)\n",
    "\n",
    "x1 = np.concatenate([x1p, x1n])\n",
    "x2 = np.concatenate([x2p, x2n])\n",
    "\n",
    "xs = np.vstack([x1, x2]) #now the index for data point is the second index.\n",
    "ys = np.concatenate([[1]*nd, [-1]*nd])\n",
    "plt.plot(x1[ys>0], x2[ys>0], '.b')\n",
    "plt.plot(x1[ys<0], x2[ys<0], '.r')\n",
    "plt.grid(True)\n"
   ]
  },
  {
   "cell_type": "code",
   "execution_count": 7,
   "metadata": {},
   "outputs": [
    {
     "data": {
      "text/plain": [
       "(2, 200)"
      ]
     },
     "execution_count": 7,
     "metadata": {},
     "output_type": "execute_result"
    }
   ],
   "source": [
    "xs.shape"
   ]
  },
  {
   "cell_type": "code",
   "execution_count": 13,
   "metadata": {},
   "outputs": [
    {
     "data": {
      "text/plain": [
       "1.1040407788481097"
      ]
     },
     "execution_count": 13,
     "metadata": {},
     "output_type": "execute_result"
    }
   ],
   "source": [
    "np.std(x1)"
   ]
  },
  {
   "cell_type": "markdown",
   "metadata": {},
   "source": [
    "1) Normalize the data so that the mean of each feature is 0 and standard deviation of each feature is 1."
   ]
  },
  {
   "cell_type": "code",
   "execution_count": 21,
   "metadata": {},
   "outputs": [],
   "source": [
    "norm_x1 = (x1 - np.mean(x1))/np.std(x1)\n",
    "norm_x2 = (x2 - np.mean(x2))/np.std(x2)\n",
    "\n",
    "norm_xs = np.vstack([norm_x1, norm_x2])"
   ]
  },
  {
   "cell_type": "code",
   "execution_count": 18,
   "metadata": {},
   "outputs": [
    {
     "data": {
      "text/plain": [
       "(3.552713678800501e-17, 1.0)"
      ]
     },
     "execution_count": 18,
     "metadata": {},
     "output_type": "execute_result"
    }
   ],
   "source": [
    "np.mean(norm_x1), np.std(norm_x1)"
   ]
  },
  {
   "cell_type": "code",
   "execution_count": 19,
   "metadata": {},
   "outputs": [
    {
     "data": {
      "text/plain": [
       "(-7.105427357601002e-17, 1.0)"
      ]
     },
     "execution_count": 19,
     "metadata": {},
     "output_type": "execute_result"
    }
   ],
   "source": [
    "np.mean(norm_x2), np.std(norm_x2)"
   ]
  },
  {
   "cell_type": "markdown",
   "metadata": {},
   "source": [
    "2) What is the criteria for picking better axis?"
   ]
  },
  {
   "cell_type": "code",
   "execution_count": null,
   "metadata": {},
   "outputs": [],
   "source": [
    "# get one with maximum variance"
   ]
  },
  {
   "cell_type": "markdown",
   "metadata": {},
   "source": [
    "3) What is the size of the covariance matrix? Why?"
   ]
  },
  {
   "cell_type": "code",
   "execution_count": 25,
   "metadata": {},
   "outputs": [
    {
     "data": {
      "text/plain": [
       "array([[1.00502513, 0.9100822 ],\n",
       "       [0.9100822 , 1.00502513]])"
      ]
     },
     "execution_count": 25,
     "metadata": {},
     "output_type": "execute_result"
    }
   ],
   "source": [
    "# n_feature x n_feature\n",
    "\n",
    "covariance = np.cov(norm_xs)\n",
    "covariance"
   ]
  },
  {
   "cell_type": "markdown",
   "metadata": {},
   "source": [
    "4) Find eigenvalue and eigenvector of the covariance matrix."
   ]
  },
  {
   "cell_type": "code",
   "execution_count": 27,
   "metadata": {},
   "outputs": [],
   "source": [
    "evalues, evectors = np.linalg.eig(covariance)"
   ]
  },
  {
   "cell_type": "code",
   "execution_count": 28,
   "metadata": {},
   "outputs": [
    {
     "data": {
      "text/plain": [
       "array([1.91510732, 0.09494293])"
      ]
     },
     "execution_count": 28,
     "metadata": {},
     "output_type": "execute_result"
    }
   ],
   "source": [
    "evalues"
   ]
  },
  {
   "cell_type": "code",
   "execution_count": 29,
   "metadata": {},
   "outputs": [
    {
     "data": {
      "text/plain": [
       "array([[ 0.70710678, -0.70710678],\n",
       "       [ 0.70710678,  0.70710678]])"
      ]
     },
     "execution_count": 29,
     "metadata": {},
     "output_type": "execute_result"
    }
   ],
   "source": [
    "evectors"
   ]
  },
  {
   "cell_type": "code",
   "execution_count": 42,
   "metadata": {},
   "outputs": [
    {
     "data": {
      "text/plain": [
       "array([1.35418538, 1.35418538])"
      ]
     },
     "execution_count": 42,
     "metadata": {},
     "output_type": "execute_result"
    }
   ],
   "source": [
    "np.dot(covariance,evectors[:,0]) # = lambda * evec"
   ]
  },
  {
   "cell_type": "code",
   "execution_count": 43,
   "metadata": {},
   "outputs": [
    {
     "data": {
      "text/plain": [
       "array([1.35418538, 1.35418538])"
      ]
     },
     "execution_count": 43,
     "metadata": {},
     "output_type": "execute_result"
    }
   ],
   "source": [
    "evalues[0]* evectors[:,0]"
   ]
  },
  {
   "cell_type": "code",
   "execution_count": 54,
   "metadata": {},
   "outputs": [
    {
     "data": {
      "image/png": "[encoded data removed]",
      "text/plain": [
       "<Figure size 576x576 with 1 Axes>"
      ]
     },
     "metadata": {
      "needs_background": "light"
     },
     "output_type": "display_data"
    }
   ],
   "source": [
    "plt.figure(figsize=(8,8))\n",
    "plt.plot(norm_xs[0, :], norm_xs[1, :], '.')\n",
    "v0 = evectors[:, 0]\n",
    "plt.plot([0, v0[0]], [0, v0[1]], '-k')\n",
    "v1 = evectors[:, 1]\n",
    "plt.plot([0, v1[0]], [0, v1[1]], '-r')\n",
    "plt.xlim(-3,3)\n",
    "plt.ylim(-3, 3)\n",
    "plt.gca().set_aspect('equal')\n",
    "plt.text(v0[0], v0[1], f'{evalues[0]:.2f}') # A black\n",
    "plt.text(v1[0], v1[1], f'{evalues[1]:.2f}') # B red\n",
    "plt.grid()"
   ]
  },
  {
   "cell_type": "markdown",
   "metadata": {},
   "source": [
    "5) Draw the eigenvectors on the plot."
   ]
  },
  {
   "cell_type": "code",
   "execution_count": 66,
   "metadata": {},
   "outputs": [
    {
     "data": {
      "text/plain": [
       "[<matplotlib.lines.Line2D at 0x1bd8f20fec8>]"
      ]
     },
     "execution_count": 66,
     "metadata": {},
     "output_type": "execute_result"
    },
    {
     "data": {
      "image/png": "[encoded data removed]",
      "text/plain": [
       "<Figure size 432x288 with 1 Axes>"
      ]
     },
     "metadata": {
      "needs_background": "light"
     },
     "output_type": "display_data"
    }
   ],
   "source": [
    "rotated_features_0 = np.dot(norm_xs.T, v0) # rotated reature on axis 0\n",
    "rotated_features_1 = np.dot(norm_xs.T, v1) # rotated reature on axis 1\n",
    "\n",
    "plt.plot(rotated_features_0, rotated_features_1, '.')"
   ]
  },
  {
   "cell_type": "code",
   "execution_count": 70,
   "metadata": {},
   "outputs": [
    {
     "data": {
      "text/plain": [
       "1.9055317880978748"
      ]
     },
     "execution_count": 70,
     "metadata": {},
     "output_type": "execute_result"
    }
   ],
   "source": [
    "np.var(rotated_features_0)"
   ]
  },
  {
   "cell_type": "code",
   "execution_count": 71,
   "metadata": {},
   "outputs": [
    {
     "data": {
      "text/plain": [
       "1.91510732"
      ]
     },
     "execution_count": 71,
     "metadata": {},
     "output_type": "execute_result"
    }
   ],
   "source": [
    "1.91510732"
   ]
  },
  {
   "cell_type": "markdown",
   "metadata": {},
   "source": [
    "6) Use eigenvector and compute the transformed feature vector."
   ]
  },
  {
   "cell_type": "code",
   "execution_count": 29,
   "metadata": {
    "collapsed": true
   },
   "outputs": [],
   "source": []
  },
  {
   "cell_type": "markdown",
   "metadata": {},
   "source": [
    "7) Plot transformed data point."
   ]
  },
  {
   "cell_type": "code",
   "execution_count": null,
   "metadata": {},
   "outputs": [],
   "source": []
  },
  {
   "cell_type": "markdown",
   "metadata": {},
   "source": [
    "# Handwritten Digit Recognition."
   ]
  },
  {
   "cell_type": "code",
   "execution_count": 72,
   "metadata": {},
   "outputs": [
    {
     "name": "stdout",
     "output_type": "stream",
     "text": [
      "{'__header__': b'MATLAB 5.0 MAT-file, Platform: GLNX86, Created on: Fri Dec  3 17:13:58 2004', '__version__': '1.0', '__globals__': [], 'train_patterns': array([[-0.99999988, -0.99999982, -0.99999988, ..., -0.9999997 ,\n",
      "        -0.99997759, -0.99993992],\n",
      "       [-0.9999997 , -0.99999845, -0.99999988, ..., -0.99996912,\n",
      "        -0.99797225, -0.99719542],\n",
      "       [-0.99998665, -0.99989259, -0.99999988, ..., -0.9983288 ,\n",
      "        -0.96142083, -0.95687085],\n",
      "       ...,\n",
      "       [-0.93985581, -0.76438236, -0.99999988, ..., -0.99999988,\n",
      "        -0.97830033, -0.99999988],\n",
      "       [-0.99104893, -0.93247736, -0.99999988, ..., -0.99999988,\n",
      "        -0.99563289, -0.99999988],\n",
      "       [-0.99916363, -0.99033844, -0.99999988, ..., -0.99999988,\n",
      "        -0.99974871, -0.99999988]]), 'train_labels': array([[-1,  1, -1, ..., -1, -1, -1],\n",
      "       [-1, -1,  1, ..., -1, -1, -1],\n",
      "       [-1, -1, -1, ..., -1,  1, -1],\n",
      "       ...,\n",
      "       [-1, -1, -1, ..., -1, -1,  1],\n",
      "       [-1, -1, -1, ..., -1, -1, -1],\n",
      "       [-1, -1, -1, ...,  1, -1, -1]], dtype=int16), 'test_patterns': array([[-0.77753252, -0.99999988, -0.99999958, ..., -0.99999517,\n",
      "        -0.99999988, -0.99999988],\n",
      "       [-0.240252  , -0.99999988, -0.99996489, ..., -0.99945843,\n",
      "        -0.99999988, -0.99999988],\n",
      "       [ 0.03521794, -0.99999988, -0.99887937, ..., -0.9816342 ,\n",
      "        -0.99999988, -0.99999988],\n",
      "       ...,\n",
      "       [-0.97948372, -0.8419112 , -0.62490261, ..., -0.99903953,\n",
      "        -0.99060977, -0.98519874],\n",
      "       [-0.99758291, -0.98447108, -0.92984188, ..., -0.99998784,\n",
      "        -0.99973452, -0.99929285],\n",
      "       [-0.99987209, -0.99943602, -0.99603903, ..., -0.99999988,\n",
      "        -0.99999774, -0.99999201]]), 'test_labels': array([[ 1, -1, -1, ..., -1, -1, -1],\n",
      "       [-1, -1, -1, ..., -1, -1, -1],\n",
      "       [-1, -1, -1, ..., -1, -1, -1],\n",
      "       ...,\n",
      "       [-1, -1, -1, ..., -1, -1, -1],\n",
      "       [-1, -1, -1, ...,  1, -1, -1],\n",
      "       [-1, -1, -1, ..., -1, -1, -1]], dtype=int16)}\n"
     ]
    }
   ],
   "source": [
    "D = loadmat('usps_resampled/usps_resampled.mat')\n",
    "print(D)\n",
    "#it is a dictionary of four elements\n",
    "# train_labels for the number of each training image\n",
    "# train_patterns for the train images\n",
    "# test_labels\n",
    "# test_patterns"
   ]
  },
  {
   "cell_type": "code",
   "execution_count": 136,
   "metadata": {},
   "outputs": [
    {
     "name": "stdout",
     "output_type": "stream",
     "text": [
      "(256, 4649)\n"
     ]
    },
    {
     "data": {
      "image/png": "[encoded data removed]",
      "text/plain": [
       "<Figure size 432x288 with 1 Axes>"
      ]
     },
     "metadata": {
      "needs_background": "light"
     },
     "output_type": "display_data"
    }
   ],
   "source": [
    "images = D['train_patterns']\n",
    "print(images.shape)\n",
    "def show(img):\n",
    "    im = img.reshape(16,16) #you can try print it\n",
    "    plt.imshow(im, interpolation='none', cmap=cm.Greys)\n",
    "show(images[:,1])\n",
    "\n",
    "\n",
    "labels = np.argmax(D['train_labels'], axis=0)\n"
   ]
  },
  {
   "cell_type": "code",
   "execution_count": 88,
   "metadata": {},
   "outputs": [],
   "source": [
    "# normalize\n",
    "mean = np.mean(images, axis=1)[:, None]\n",
    "std = np.std(images, axis=1)[:, None]\n",
    "norm_images = (images - mean)/std"
   ]
  },
  {
   "cell_type": "code",
   "execution_count": 101,
   "metadata": {},
   "outputs": [
    {
     "data": {
      "text/plain": [
       "(256, 256)"
      ]
     },
     "execution_count": 101,
     "metadata": {},
     "output_type": "execute_result"
    }
   ],
   "source": [
    "# covariance matrix\n",
    "cov_images = np.cov(norm_images)\n",
    "cov_images.shape"
   ]
  },
  {
   "cell_type": "code",
   "execution_count": 108,
   "metadata": {},
   "outputs": [
    {
     "data": {
      "text/plain": [
       "((256,), (256, 256))"
      ]
     },
     "execution_count": 108,
     "metadata": {},
     "output_type": "execute_result"
    }
   ],
   "source": [
    "evalues, evectors = np.linalg.eig(cov_images)\n",
    "evalues.shape, evectors.shape"
   ]
  },
  {
   "cell_type": "code",
   "execution_count": 109,
   "metadata": {},
   "outputs": [],
   "source": [
    "first_20 = evectors[:, :20]"
   ]
  },
  {
   "cell_type": "code",
   "execution_count": 139,
   "metadata": {},
   "outputs": [
    {
     "data": {
      "text/plain": [
       "26.094639719992365"
      ]
     },
     "execution_count": 139,
     "metadata": {},
     "output_type": "execute_result"
    }
   ],
   "source": [
    "np.var(rotated[:,1])"
   ]
  },
  {
   "cell_type": "code",
   "execution_count": 122,
   "metadata": {},
   "outputs": [
    {
     "name": "stdout",
     "output_type": "stream",
     "text": [
      "[-13.61907884  -8.81839025   3.82839416  -3.06933053   0.04157478\n",
      "  -3.4347987   -0.47250136  -0.43500739  -0.61416442  -5.14011996\n",
      "   3.88932905  -5.3967301   -0.09140729   1.19656861   3.60834037\n",
      "  -1.31568855   3.57245859   2.26030459  -0.1618591    1.86591869]\n"
     ]
    }
   ],
   "source": [
    "rotated = np.dot(norm_images.T, first_20)\n",
    "rotated.T\n",
    "print(rotated[0])"
   ]
  },
  {
   "cell_type": "code",
   "execution_count": 128,
   "metadata": {},
   "outputs": [],
   "source": [
    "pca1 = rotated[:,0]\n",
    "pca2 = rotated[:,1]"
   ]
  },
  {
   "cell_type": "code",
   "execution_count": 140,
   "metadata": {},
   "outputs": [
    {
     "name": "stderr",
     "output_type": "stream",
     "text": [
      "No handles with labels found to put in legend.\n"
     ]
    },
    {
     "data": {
      "text/plain": [
       "<matplotlib.legend.Legend at 0x1bd8f7754c8>"
      ]
     },
     "execution_count": 140,
     "metadata": {},
     "output_type": "execute_result"
    },
    {
     "data": {
      "image/png": "[encoded data removed]",
      "text/plain": [
       "<Figure size 432x288 with 1 Axes>"
      ]
     },
     "metadata": {
      "needs_background": "light"
     },
     "output_type": "display_data"
    }
   ],
   "source": [
    "plt.scatter(pca1, pca2, c=labels)\n"
   ]
  },
  {
   "cell_type": "code",
   "execution_count": 89,
   "metadata": {},
   "outputs": [
    {
     "data": {
      "text/plain": [
       "-7.947563402780213e-17"
      ]
     },
     "execution_count": 89,
     "metadata": {},
     "output_type": "execute_result"
    }
   ],
   "source": [
    "np.mean(norm_images[2,:]) # second pixel of every sample"
   ]
  },
  {
   "cell_type": "code",
   "execution_count": 90,
   "metadata": {},
   "outputs": [
    {
     "data": {
      "text/plain": [
       "1.0000000000000062"
      ]
     },
     "execution_count": 90,
     "metadata": {},
     "output_type": "execute_result"
    }
   ],
   "source": [
    "np.std(norm_images[2,:])"
   ]
  },
  {
   "cell_type": "code",
   "execution_count": 79,
   "metadata": {},
   "outputs": [
    {
     "data": {
      "text/plain": [
       "(256,)"
      ]
     },
     "execution_count": 79,
     "metadata": {},
     "output_type": "execute_result"
    }
   ],
   "source": [
    "np.mean(images, axis=1).shape"
   ]
  },
  {
   "cell_type": "code",
   "execution_count": 144,
   "metadata": {},
   "outputs": [],
   "source": [
    "import sklearn as sk\n",
    "from sklearn.pipeline import Pipeline\n",
    "from sklearn.decomposition import PCA\n",
    "from sklearn.linear_model import LogisticRegression"
   ]
  },
  {
   "cell_type": "code",
   "execution_count": 194,
   "metadata": {},
   "outputs": [],
   "source": [
    "pipe = Pipeline([\n",
    "    ('pca', PCA(20)),\n",
    "    ('logistic', LogisticRegression())\n",
    "])"
   ]
  },
  {
   "cell_type": "code",
   "execution_count": 195,
   "metadata": {},
   "outputs": [
    {
     "name": "stderr",
     "output_type": "stream",
     "text": [
      "c:\\users\\jellydonuts\\appdata\\local\\programs\\python\\python37\\lib\\site-packages\\sklearn\\linear_model\\_logistic.py:764: ConvergenceWarning: lbfgs failed to converge (status=1):\n",
      "STOP: TOTAL NO. of ITERATIONS REACHED LIMIT.\n",
      "\n",
      "Increase the number of iterations (max_iter) or scale the data as shown in:\n",
      "    https://scikit-learn.org/stable/modules/preprocessing.html\n",
      "Please also refer to the documentation for alternative solver options:\n",
      "    https://scikit-learn.org/stable/modules/linear_model.html#logistic-regression\n",
      "  extra_warning_msg=_LOGISTIC_SOLVER_CONVERGENCE_MSG)\n"
     ]
    },
    {
     "data": {
      "text/plain": [
       "Pipeline(steps=[('pca', PCA(n_components=20)),\n",
       "                ('logistic', LogisticRegression())])"
      ]
     },
     "execution_count": 195,
     "metadata": {},
     "output_type": "execute_result"
    }
   ],
   "source": [
    "pipe.fit(images.T, labels)"
   ]
  },
  {
   "cell_type": "code",
   "execution_count": 196,
   "metadata": {},
   "outputs": [],
   "source": [
    "result = pipe.predict(images.T)"
   ]
  },
  {
   "cell_type": "code",
   "execution_count": 197,
   "metadata": {},
   "outputs": [
    {
     "name": "stdout",
     "output_type": "stream",
     "text": [
      "0.9346095934609594\n",
      "4649\n"
     ]
    }
   ],
   "source": [
    "print(np.sum(labels==result)/len(result)) \n",
    "print(len(result))"
   ]
  },
  {
   "cell_type": "code",
   "execution_count": 198,
   "metadata": {},
   "outputs": [],
   "source": [
    "test_images = D['test_patterns']\n",
    "test_labels = np.argmax(D['test_labels'], axis=0)"
   ]
  },
  {
   "cell_type": "code",
   "execution_count": 199,
   "metadata": {},
   "outputs": [
    {
     "name": "stdout",
     "output_type": "stream",
     "text": [
      "0.9247149924714992\n",
      "4649\n"
     ]
    }
   ],
   "source": [
    "result = pipe.predict(test_images.T)\n",
    "print(np.sum(test_labels==result)/len(result)) \n",
    "print(len(result))"
   ]
  },
  {
   "cell_type": "code",
   "execution_count": null,
   "metadata": {},
   "outputs": [],
   "source": []
  },
  {
   "cell_type": "code",
   "execution_count": null,
   "metadata": {},
   "outputs": [],
   "source": []
  }
 ],
 "metadata": {
  "kernelspec": {
   "display_name": "Python 3",
   "language": "python",
   "name": "python3"
  },
  "language_info": {
   "codemirror_mode": {
    "name": "ipython",
    "version": 3
   },
   "file_extension": ".py",
   "mimetype": "text/x-python",
   "name": "python",
   "nbconvert_exporter": "python",
   "pygments_lexer": "ipython3",
   "version": "3.7.5"
  },
  "toc": {
   "base_numbering": 1,
   "nav_menu": {
    "height": "30px",
    "width": "252px"
   },
   "number_sections": false,
   "sideBar": true,
   "skip_h1_title": false,
   "title_cell": "Table of Contents",
   "title_sidebar": "Contents",
   "toc_cell": false,
   "toc_position": {},
   "toc_section_display": "block",
   "toc_window_display": false
  }
 },
 "nbformat": 4,
 "nbformat_minor": 1
}
