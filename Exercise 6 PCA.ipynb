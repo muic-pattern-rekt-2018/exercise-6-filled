{
 "cells": [
  {
   "cell_type": "code",
   "execution_count": 5,
   "metadata": {},
   "outputs": [],
   "source": [
    "%matplotlib inline\n",
    "from scipy.io import loadmat\n",
    "import numpy as np\n",
    "from matplotlib import pyplot as plt\n",
    "import matplotlib.cm as cm"
   ]
  },
  {
   "cell_type": "code",
   "execution_count": 6,
   "metadata": {},
   "outputs": [
    {
     "data": {
      "image/png": "[encoded data removed]",
      "text/plain": [
       "<Figure size 432x288 with 1 Axes>"
      ]
     },
     "metadata": {
      "needs_background": "light"
     },
     "output_type": "display_data"
    }
   ],
   "source": [
    "np.random.seed(12345)\n",
    "nd = 100\n",
    "x1p = np.random.randn(nd)+1\n",
    "x1n = np.random.randn(nd)+2\n",
    "\n",
    "x2p = x1p *2 + 1 + np.random.randn(nd)\n",
    "x2n = x1n *2 + 1 + np.random.randn(nd)\n",
    "\n",
    "x1 = np.concatenate([x1p, x1n])\n",
    "x2 = np.concatenate([x2p, x2n])\n",
    "\n",
    "xs = np.vstack([x1, x2]) #now the index for data point is the second index.\n",
    "ys = np.concatenate([[1]*nd, [-1]*nd])\n",
    "plt.plot(x1[ys>0], x2[ys>0], '.b')\n",
    "plt.plot(x1[ys<0], x2[ys<0], '.r')\n",
    "plt.grid(True)\n"
   ]
  },
  {
   "cell_type": "code",
   "execution_count": 7,
   "metadata": {},
   "outputs": [
    {
     "data": {
      "text/plain": [
       "(2, 200)"
      ]
     },
     "execution_count": 7,
     "metadata": {},
     "output_type": "execute_result"
    }
   ],
   "source": [
    "xs.shape"
   ]
  },
  {
   "cell_type": "code",
   "execution_count": 13,
   "metadata": {},
   "outputs": [
    {
     "data": {
      "text/plain": [
       "1.1040407788481097"
      ]
     },
     "execution_count": 13,
     "metadata": {},
     "output_type": "execute_result"
    }
   ],
   "source": [
    "np.std(x1)"
   ]
  },
  {
   "cell_type": "markdown",
   "metadata": {},
   "source": [
    "1) Normalize the data so that the mean of each feature is 0 and standard deviation of each feature is 1."
   ]
  },
  {
   "cell_type": "code",
   "execution_count": 21,
   "metadata": {},
   "outputs": [],
   "source": [
    "norm_x1 = (x1 - np.mean(x1))/np.std(x1)\n",
    "norm_x2 = (x2 - np.mean(x2))/np.std(x2)\n",
    "\n",
    "norm_xs = np.vstack([norm_x1, norm_x2])"
   ]
  },
  {
   "cell_type": "code",
   "execution_count": 18,
   "metadata": {},
   "outputs": [
    {
     "data": {
      "text/plain": [
       "(3.552713678800501e-17, 1.0)"
      ]
     },
     "execution_count": 18,
     "metadata": {},
     "output_type": "execute_result"
    }
   ],
   "source": [
    "np.mean(norm_x1), np.std(norm_x1)"
   ]
  },
  {
   "cell_type": "code",
   "execution_count": 19,
   "metadata": {},
   "outputs": [
    {
     "data": {
      "text/plain": [
       "(-7.105427357601002e-17, 1.0)"
      ]
     },
     "execution_count": 19,
     "metadata": {},
     "output_type": "execute_result"
    }
   ],
   "source": [
    "np.mean(norm_x2), np.std(norm_x2)"
   ]
  },
  {
   "cell_type": "markdown",
   "metadata": {},
   "source": [
    "2) What is the criteria for picking better axis?"
   ]
  },
  {
   "cell_type": "code",
   "execution_count": null,
   "metadata": {},
   "outputs": [],
   "source": [
    "# get one with maximum variance"
   ]
  },
  {
   "cell_type": "markdown",
   "metadata": {},
   "source": [
    "3) What is the size of the covariance matrix? Why?"
   ]
  },
  {
   "cell_type": "code",
   "execution_count": 25,
   "metadata": {},
   "outputs": [
    {
     "data": {
      "text/plain": [
       "array([[1.00502513, 0.9100822 ],\n",
       "       [0.9100822 , 1.00502513]])"
      ]
     },
     "execution_count": 25,
     "metadata": {},
     "output_type": "execute_result"
    }
   ],
   "source": [
    "# n_feature x n_feature\n",
    "\n",
    "covariance = np.cov(norm_xs)\n",
    "covariance"
   ]
  },
  {
   "cell_type": "markdown",
   "metadata": {},
   "source": [
    "4) Find eigenvalue and eigenvector of the covariance matrix."
   ]
  },
  {
   "cell_type": "code",
   "execution_count": 27,
   "metadata": {},
   "outputs": [],
   "source": [
    "evalues, evectors = np.linalg.eig(covariance)"
   ]
  },
  {
   "cell_type": "code",
   "execution_count": 28,
   "metadata": {},
   "outputs": [
    {
     "data": {
      "text/plain": [
       "array([1.91510732, 0.09494293])"
      ]
     },
     "execution_count": 28,
     "metadata": {},
     "output_type": "execute_result"
    }
   ],
   "source": [
    "evalues"
   ]
  },
  {
   "cell_type": "code",
   "execution_count": 29,
   "metadata": {},
   "outputs": [
    {
     "data": {
      "text/plain": [
       "array([[ 0.70710678, -0.70710678],\n",
       "       [ 0.70710678,  0.70710678]])"
      ]
     },
     "execution_count": 29,
     "metadata": {},
     "output_type": "execute_result"
    }
   ],
   "source": [
    "evectors"
   ]
  },
  {
   "cell_type": "code",
   "execution_count": 42,
   "metadata": {},
   "outputs": [
    {
     "data": {
      "text/plain": [
       "array([1.35418538, 1.35418538])"
      ]
     },
     "execution_count": 42,
     "metadata": {},
     "output_type": "execute_result"
    }
   ],
   "source": [
    "np.dot(covariance,evectors[:,0]) # = lambda * evec"
   ]
  },
  {
   "cell_type": "code",
   "execution_count": 43,
   "metadata": {},
   "outputs": [
    {
     "data": {
      "text/plain": [
       "array([1.35418538, 1.35418538])"
      ]
     },
     "execution_count": 43,
     "metadata": {},
     "output_type": "execute_result"
    }
   ],
   "source": [
    "evalues[0]* evectors[:,0]"
   ]
  },
  {
   "cell_type": "code",
   "execution_count": 54,
   "metadata": {},
   "outputs": [
    {
     "data": {
      "image/png": "[encoded data removed]",
      "text/plain": [
       "<Figure size 576x576 with 1 Axes>"
      ]
     },
     "metadata": {
      "needs_background": "light"
     },
     "output_type": "display_data"
    }
   ],
   "source": [
    "plt.figure(figsize=(8,8))\n",
    "plt.plot(norm_xs[0, :], norm_xs[1, :], '.')\n",
    "v0 = evectors[:, 0]\n",
    "plt.plot([0, v0[0]], [0, v0[1]], '-k')\n",
    "v1 = evectors[:, 1]\n",
    "plt.plot([0, v1[0]], [0, v1[1]], '-r')\n",
    "plt.xlim(-3,3)\n",
    "plt.ylim(-3, 3)\n",
    "plt.gca().set_aspect('equal')\n",
    "plt.text(v0[0], v0[1], f'{evalues[0]:.2f}') # A black\n",
    "plt.text(v1[0], v1[1], f'{evalues[1]:.2f}') # B red\n",
    "plt.grid()"
   ]
  },
  {
   "cell_type": "markdown",
   "metadata": {},
   "source": [
    "5) Draw the eigenvectors on the plot."
   ]
  },
  {
   "cell_type": "code",
   "execution_count": 66,
   "metadata": {},
   "outputs": [
    {
     "data": {
      "text/plain": [
       "[<matplotlib.lines.Line2D at 0x1bd8f20fec8>]"
      ]
     },
     "execution_count": 66,
     "metadata": {},
     "output_type": "execute_result"
    },
    {
     "data": {
      "image/png": "[encoded data removed]",
      "text/plain": [
       "<Figure size 432x288 with 1 Axes>"
      ]
     },
     "metadata": {
      "needs_background": "light"
     },
     "output_type": "display_data"
    }
   ],
   "source": [
    "rotated_features_0 = np.dot(norm_xs.T, v0) # rotated reature on axis 0\n",
    "rotated_features_1 = np.dot(norm_xs.T, v1) # rotated reature on axis 1\n",
    "\n",
    "plt.plot(rotated_features_0, rotated_features_1, '.')"
   ]
  },
  {
   "cell_type": "code",
   "execution_count": 70,
   "metadata": {},
   "outputs": [
    {
     "data": {
      "text/plain": [
       "1.9055317880978748"
      ]
     },
     "execution_count": 70,
     "metadata": {},
     "output_type": "execute_result"
    }
   ],
   "source": [
    "np.var(rotated_features_0)"
   ]
  },
  {
   "cell_type": "code",
   "execution_count": 71,
   "metadata": {},
   "outputs": [
    {
     "data": {
      "text/plain": [
       "1.91510732"
      ]
     },
     "execution_count": 71,
     "metadata": {},
     "output_type": "execute_result"
    }
   ],
   "source": [
    "1.91510732"
   ]
  },
  {
   "cell_type": "markdown",
   "metadata": {},
   "source": [
    "6) Use eigenvector and compute the transformed feature vector."
   ]
  },
  {
   "cell_type": "code",
   "execution_count": 29,
   "metadata": {
    "collapsed": true
   },
   "outputs": [],
   "source": []
  },
  {
   "cell_type": "markdown",
   "metadata": {},
   "source": [
    "7) Plot transformed data point."
   ]
  },
  {
   "cell_type": "code",
   "execution_count": null,
   "metadata": {},
   "outputs": [],
   "source": []
  },
  {
   "cell_type": "markdown",
   "metadata": {},
   "source": [
    "# Handwritten Digit Recognition."
   ]
  },
  {
   "cell_type": "code",
   "execution_count": 72,
   "metadata": {},
   "outputs": [
    {
     "name": "stdout",
     "output_type": "stream",
     "text": [
      "{'__header__': b'MATLAB 5.0 MAT-file, Platform: GLNX86, Created on: Fri Dec  3 17:13:58 2004', '__version__': '1.0', '__globals__': [], 'train_patterns': array([[-0.99999988, -0.99999982, -0.99999988, ..., -0.9999997 ,\n",
      "        -0.99997759, -0.99993992],\n",
      "       [-0.9999997 , -0.99999845, -0.99999988, ..., -0.99996912,\n",
      "        -0.99797225, -0.99719542],\n",
      "       [-0.99998665, -0.99989259, -0.99999988, ..., -0.9983288 ,\n",
      "        -0.96142083, -0.95687085],\n",
      "       ...,\n",
      "       [-0.93985581, -0.76438236, -0.99999988, ..., -0.99999988,\n",
      "        -0.97830033, -0.99999988],\n",
      "       [-0.99104893, -0.93247736, -0.99999988, ..., -0.99999988,\n",
      "        -0.99563289, -0.99999988],\n",
      "       [-0.99916363, -0.99033844, -0.99999988, ..., -0.99999988,\n",
      "        -0.99974871, -0.99999988]]), 'train_labels': array([[-1,  1, -1, ..., -1, -1, -1],\n",
      "       [-1, -1,  1, ..., -1, -1, -1],\n",
      "       [-1, -1, -1, ..., -1,  1, -1],\n",
      "       ...,\n",
      "       [-1, -1, -1, ..., -1, -1,  1],\n",
      "       [-1, -1, -1, ..., -1, -1, -1],\n",
      "       [-1, -1, -1, ...,  1, -1, -1]], dtype=int16), 'test_patterns': array([[-0.77753252, -0.99999988, -0.99999958, ..., -0.99999517,\n",
      "        -0.99999988, -0.99999988],\n",
      "       [-0.240252  , -0.99999988, -0.99996489, ..., -0.99945843,\n",
      "        -0.99999988, -0.99999988],\n",
      "       [ 0.03521794, -0.99999988, -0.99887937, ..., -0.9816342 ,\n",
      "        -0.99999988, -0.99999988],\n",
      "       ...,\n",
      "       [-0.97948372, -0.8419112 , -0.62490261, ..., -0.99903953,\n",
      "        -0.99060977, -0.98519874],\n",
      "       [-0.99758291, -0.98447108, -0.92984188, ..., -0.99998784,\n",
      "        -0.99973452, -0.99929285],\n",
      "       [-0.99987209, -0.99943602, -0.99603903, ..., -0.99999988,\n",
      "        -0.99999774, -0.99999201]]), 'test_labels': array([[ 1, -1, -1, ..., -1, -1, -1],\n",
      "       [-1, -1, -1, ..., -1, -1, -1],\n",
      "       [-1, -1, -1, ..., -1, -1, -1],\n",
      "       ...,\n",
      "       [-1, -1, -1, ..., -1, -1, -1],\n",
      "       [-1, -1, -1, ...,  1, -1, -1],\n",
      "       [-1, -1, -1, ..., -1, -1, -1]], dtype=int16)}\n"
     ]
    }
   ],
   "source": [
    "D = loadmat('usps_resampled/usps_resampled.mat')\n",
    "print(D)\n",
    "#it is a dictionary of four elements\n",
    "# train_labels for the number of each training image\n",
    "# train_patterns for the train images\n",
    "# test_labels\n",
    "# test_patterns"
   ]
  },
  {
   "cell_type": "code",
   "execution_count": 77,
   "metadata": {},
   "outputs": [
    {
     "name": "stdout",
     "output_type": "stream",
     "text": [
      "(256, 4649)\n"
     ]
    },
    {
     "data": {
      "image/png": "[encoded data removed]",
      "text/plain": [
       "<Figure size 432x288 with 1 Axes>"
      ]
     },
     "metadata": {
      "needs_background": "light"
     },
     "output_type": "display_data"
    }
   ],
   "source": [
    "images = D['train_patterns']\n",
    "print(images.shape)\n",
    "def show(img):\n",
    "    im = img.reshape(16,16) #you can try print it\n",
    "    plt.imshow(im, interpolation='none', cmap=cm.Greys)\n",
    "show(images[:,9])"
   ]
  },
  {
   "cell_type": "code",
   "execution_count": 88,
   "metadata": {},
   "outputs": [],
   "source": [
    "# normalize\n",
    "mean = np.mean(images, axis=1)[:, None]\n",
    "std = np.std(images, axis=1)[:, None]\n",
    "norm_images = (images - mean)/std"
   ]
  },
  {
   "cell_type": "code",
   "execution_count": 91,
   "metadata": {},
   "outputs": [
    {
     "data": {
      "image/png": "[encoded data removed]",
      "text/plain": [
       "<Figure size 432x288 with 1 Axes>"
      ]
     },
     "metadata": {
      "needs_background": "light"
     },
     "output_type": "display_data"
    }
   ],
   "source": [
    "# covariance matrix"
   ]
  },
  {
   "cell_type": "code",
   "execution_count": 89,
   "metadata": {},
   "outputs": [
    {
     "data": {
      "text/plain": [
       "-7.947563402780213e-17"
      ]
     },
     "execution_count": 89,
     "metadata": {},
     "output_type": "execute_result"
    }
   ],
   "source": [
    "np.mean(norm_images[2,:]) # second pixel of every sample"
   ]
  },
  {
   "cell_type": "code",
   "execution_count": 90,
   "metadata": {},
   "outputs": [
    {
     "data": {
      "text/plain": [
       "1.0000000000000062"
      ]
     },
     "execution_count": 90,
     "metadata": {},
     "output_type": "execute_result"
    }
   ],
   "source": [
    "np.std(norm_images[2,:])"
   ]
  },
  {
   "cell_type": "code",
   "execution_count": 79,
   "metadata": {},
   "outputs": [
    {
     "data": {
      "text/plain": [
       "(256,)"
      ]
     },
     "execution_count": 79,
     "metadata": {},
     "output_type": "execute_result"
    }
   ],
   "source": [
    "np.mean(images, axis=1).shape"
   ]
  },
  {
   "cell_type": "code",
   "execution_count": null,
   "metadata": {},
   "outputs": [],
   "source": [
    "np.subtract()"
   ]
  },
  {
   "cell_type": "code",
   "execution_count": 83,
   "metadata": {},
   "outputs": [
    {
     "data": {
      "text/plain": [
       "array([[-0.99098015],\n",
       "       [-0.9705964 ],\n",
       "       [-0.92796764],\n",
       "       [-0.84986123],\n",
       "       [-0.73052046],\n",
       "       [-0.57329161],\n",
       "       [-0.38771141],\n",
       "       [-0.22858277],\n",
       "       [-0.22246848],\n",
       "       [-0.36032531],\n",
       "       [-0.52868878],\n",
       "       [-0.68053809],\n",
       "       [-0.80570042],\n",
       "       [-0.89766211],\n",
       "       [-0.95556647],\n",
       "       [-0.98606862],\n",
       "       [-0.98042561],\n",
       "       [-0.93700145],\n",
       "       [-0.84447777],\n",
       "       [-0.6825739 ],\n",
       "       [-0.46331294],\n",
       "       [-0.2274891 ],\n",
       "       [-0.00157403],\n",
       "       [ 0.17118465],\n",
       "       [ 0.1650848 ],\n",
       "       [-0.0022585 ],\n",
       "       [-0.20082252],\n",
       "       [-0.4135843 ],\n",
       "       [-0.62991823],\n",
       "       [-0.80363102],\n",
       "       [-0.91292481],\n",
       "       [-0.97120318],\n",
       "       [-0.97054556],\n",
       "       [-0.90674408],\n",
       "       [-0.77173357],\n",
       "       [-0.55063507],\n",
       "       [-0.29790633],\n",
       "       [-0.1010516 ],\n",
       "       [ 0.0338596 ],\n",
       "       [ 0.12790321],\n",
       "       [ 0.10030356],\n",
       "       [-0.0165799 ],\n",
       "       [-0.12366863],\n",
       "       [-0.27788625],\n",
       "       [-0.51175716],\n",
       "       [-0.73826507],\n",
       "       [-0.88572219],\n",
       "       [-0.96217702],\n",
       "       [-0.96268306],\n",
       "       [-0.88137267],\n",
       "       [-0.71776019],\n",
       "       [-0.47687402],\n",
       "       [-0.25468789],\n",
       "       [-0.15138216],\n",
       "       [-0.12539092],\n",
       "       [-0.10221959],\n",
       "       [-0.13357677],\n",
       "       [-0.17897938],\n",
       "       [-0.17770932],\n",
       "       [-0.24451531],\n",
       "       [-0.45214171],\n",
       "       [-0.69820449],\n",
       "       [-0.87187046],\n",
       "       [-0.96055515],\n",
       "       [-0.95576516],\n",
       "       [-0.85822677],\n",
       "       [-0.67826042],\n",
       "       [-0.44420636],\n",
       "       [-0.26694868],\n",
       "       [-0.23003676],\n",
       "       [-0.26092152],\n",
       "       [-0.26537972],\n",
       "       [-0.2770779 ],\n",
       "       [-0.26890569],\n",
       "       [-0.21699172],\n",
       "       [-0.24865917],\n",
       "       [-0.43489097],\n",
       "       [-0.67754644],\n",
       "       [-0.86163711],\n",
       "       [-0.95950685],\n",
       "       [-0.9472218 ],\n",
       "       [-0.83643388],\n",
       "       [-0.65276359],\n",
       "       [-0.43743959],\n",
       "       [-0.28976494],\n",
       "       [-0.27003791],\n",
       "       [-0.30287739],\n",
       "       [-0.29655054],\n",
       "       [-0.2802358 ],\n",
       "       [-0.25613183],\n",
       "       [-0.22256645],\n",
       "       [-0.27482969],\n",
       "       [-0.45364096],\n",
       "       [-0.67575318],\n",
       "       [-0.84999392],\n",
       "       [-0.95238193],\n",
       "       [-0.93598567],\n",
       "       [-0.81701453],\n",
       "       [-0.6412852 ],\n",
       "       [-0.44962207],\n",
       "       [-0.31839746],\n",
       "       [-0.28738887],\n",
       "       [-0.28827162],\n",
       "       [-0.24663902],\n",
       "       [-0.20597848],\n",
       "       [-0.19637068],\n",
       "       [-0.21414219],\n",
       "       [-0.30598076],\n",
       "       [-0.48106835],\n",
       "       [-0.6759752 ],\n",
       "       [-0.83273279],\n",
       "       [-0.93832271],\n",
       "       [-0.92224801],\n",
       "       [-0.79990011],\n",
       "       [-0.63906318],\n",
       "       [-0.47515561],\n",
       "       [-0.36435032],\n",
       "       [-0.32558601],\n",
       "       [-0.29101094],\n",
       "       [-0.20903608],\n",
       "       [-0.14462305],\n",
       "       [-0.14444247],\n",
       "       [-0.2015322 ],\n",
       "       [-0.32076763],\n",
       "       [-0.48835069],\n",
       "       [-0.66052139],\n",
       "       [-0.80710604],\n",
       "       [-0.91995383],\n",
       "       [-0.90703628],\n",
       "       [-0.78092527],\n",
       "       [-0.63389425],\n",
       "       [-0.50061978],\n",
       "       [-0.42279385],\n",
       "       [-0.39561113],\n",
       "       [-0.34001943],\n",
       "       [-0.22320794],\n",
       "       [-0.13175093],\n",
       "       [-0.1291207 ],\n",
       "       [-0.20383945],\n",
       "       [-0.32372045],\n",
       "       [-0.46952851],\n",
       "       [-0.62555389],\n",
       "       [-0.7750598 ],\n",
       "       [-0.90203352],\n",
       "       [-0.89089319],\n",
       "       [-0.75542929],\n",
       "       [-0.61506529],\n",
       "       [-0.51049003],\n",
       "       [-0.47064965],\n",
       "       [-0.46562579],\n",
       "       [-0.40283063],\n",
       "       [-0.25843571],\n",
       "       [-0.14205017],\n",
       "       [-0.14648544],\n",
       "       [-0.23483369],\n",
       "       [-0.33224739],\n",
       "       [-0.44031908],\n",
       "       [-0.58454245],\n",
       "       [-0.74756381],\n",
       "       [-0.89177668],\n",
       "       [-0.87893   ],\n",
       "       [-0.72974765],\n",
       "       [-0.58368176],\n",
       "       [-0.49235721],\n",
       "       [-0.48205103],\n",
       "       [-0.50186002],\n",
       "       [-0.43897597],\n",
       "       [-0.27265634],\n",
       "       [-0.14474923],\n",
       "       [-0.17264554],\n",
       "       [-0.26916316],\n",
       "       [-0.33215428],\n",
       "       [-0.40643729],\n",
       "       [-0.55229195],\n",
       "       [-0.73637445],\n",
       "       [-0.89310902],\n",
       "       [-0.88222523],\n",
       "       [-0.72121538],\n",
       "       [-0.55325126],\n",
       "       [-0.44577446],\n",
       "       [-0.43934476],\n",
       "       [-0.47474195],\n",
       "       [-0.41530155],\n",
       "       [-0.2389169 ],\n",
       "       [-0.12004125],\n",
       "       [-0.17243207],\n",
       "       [-0.26015536],\n",
       "       [-0.29980197],\n",
       "       [-0.37856784],\n",
       "       [-0.55053772],\n",
       "       [-0.75242534],\n",
       "       [-0.90617799],\n",
       "       [-0.90411604],\n",
       "       [-0.74938428],\n",
       "       [-0.55846129],\n",
       "       [-0.40374746],\n",
       "       [-0.34963093],\n",
       "       [-0.35921157],\n",
       "       [-0.28880379],\n",
       "       [-0.11098507],\n",
       "       [-0.01753136],\n",
       "       [-0.0953067 ],\n",
       "       [-0.18705126],\n",
       "       [-0.25704605],\n",
       "       [-0.39385621],\n",
       "       [-0.60085699],\n",
       "       [-0.79809712],\n",
       "       [-0.92838877],\n",
       "       [-0.9368002 ],\n",
       "       [-0.81759031],\n",
       "       [-0.63531326],\n",
       "       [-0.43365724],\n",
       "       [-0.28251139],\n",
       "       [-0.19444165],\n",
       "       [-0.06500494],\n",
       "       [ 0.1201028 ],\n",
       "       [ 0.17097672],\n",
       "       [ 0.03405852],\n",
       "       [-0.1311761 ],\n",
       "       [-0.29704354],\n",
       "       [-0.50222293],\n",
       "       [-0.70898113],\n",
       "       [-0.86239972],\n",
       "       [-0.95212722],\n",
       "       [-0.96793309],\n",
       "       [-0.90100846],\n",
       "       [-0.77659747],\n",
       "       [-0.59314412],\n",
       "       [-0.38376325],\n",
       "       [-0.18493375],\n",
       "       [ 0.03402306],\n",
       "       [ 0.23765996],\n",
       "       [ 0.23757345],\n",
       "       [ 0.01095212],\n",
       "       [-0.2571509 ],\n",
       "       [-0.49216508],\n",
       "       [-0.69303729],\n",
       "       [-0.83888081],\n",
       "       [-0.92586196],\n",
       "       [-0.9732893 ],\n",
       "       [-0.98920992],\n",
       "       [-0.96476862],\n",
       "       [-0.91291539],\n",
       "       [-0.81909632],\n",
       "       [-0.67857326],\n",
       "       [-0.50009229],\n",
       "       [-0.29078953],\n",
       "       [-0.11790123],\n",
       "       [-0.13834068],\n",
       "       [-0.35852935],\n",
       "       [-0.5972442 ],\n",
       "       [-0.76729184],\n",
       "       [-0.87588824],\n",
       "       [-0.93828544],\n",
       "       [-0.97159795],\n",
       "       [-0.98955019]])"
      ]
     },
     "execution_count": 83,
     "metadata": {},
     "output_type": "execute_result"
    }
   ],
   "source": []
  },
  {
   "cell_type": "code",
   "execution_count": null,
   "metadata": {},
   "outputs": [],
   "source": []
  }
 ],
 "metadata": {
  "kernelspec": {
   "display_name": "Python 3",
   "language": "python",
   "name": "python3"
  },
  "language_info": {
   "codemirror_mode": {
    "name": "ipython",
    "version": 3
   },
   "file_extension": ".py",
   "mimetype": "text/x-python",
   "name": "python",
   "nbconvert_exporter": "python",
   "pygments_lexer": "ipython3",
   "version": "3.7.5"
  },
  "toc": {
   "base_numbering": 1,
   "nav_menu": {
    "height": "30px",
    "width": "252px"
   },
   "number_sections": false,
   "sideBar": true,
   "skip_h1_title": false,
   "title_cell": "Table of Contents",
   "title_sidebar": "Contents",
   "toc_cell": false,
   "toc_position": {},
   "toc_section_display": "block",
   "toc_window_display": false
  }
 },
 "nbformat": 4,
 "nbformat_minor": 1
}
